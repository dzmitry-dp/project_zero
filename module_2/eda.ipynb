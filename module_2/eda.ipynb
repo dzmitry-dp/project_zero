{
 "cells": [
  {
   "cell_type": "markdown",
   "id": "environmental-gauge",
   "metadata": {},
   "source": [
    "# Специализация Data Science.\n",
    "---"
   ]
  },
  {
   "cell_type": "markdown",
   "id": "stylish-practitioner",
   "metadata": {},
   "source": [
    "## Проект: Разведывательный анализ данных \n",
    "---"
   ]
  },
  {
   "cell_type": "markdown",
   "id": "referenced-first",
   "metadata": {},
   "source": [
    "### **Общая информация**\n",
    "На основе предоставленных данных (**stud_math.xls**) предстоит сформулировать гипотезы о связях различных переменных.\n",
    "\n",
    "> _Легенда такова, что меня вдруг пригласили поучаствовать в одном из проектов UNICEF — международного подразделения ООН, чья миссия состоит в повышении уровня благополучия детей по всему миру._ "
   ]
  },
  {
   "cell_type": "markdown",
   "id": "lined-helicopter",
   "metadata": {},
   "source": [
    "#### <u>Задача моего проекта</u>:\n",
    "Отследить влияние условий жизни учащихся на их успеваемость по математике."
   ]
  },
  {
   "cell_type": "markdown",
   "id": "effective-encoding",
   "metadata": {},
   "source": [
    "#### Описание датасета:\n",
    "- school — аббревиатура школы, в которой учится ученик\n",
    "- sex — пол ученика ('F' - женский, 'M' - мужской)\n",
    "- age — возраст ученика (от 15 до 22)\n",
    "- address — тип адреса ученика ('U' - городской, 'R' - за городом)\n",
    "- famsize — размер семьи('LE3' <= 3, 'GT3' >3)\n",
    "- Pstatus — статус совместного жилья родителей ('T' - живут вместе 'A' - раздельно)\n",
    "- Medu — образование матери (0 - нет, 1 - 4 класса, 2 - 5-9 классы, 3 - среднее специальное или 11 классов, 4 - высшее)\n",
    "- Fedu — образование отца (0 - нет, 1 - 4 класса, 2 - 5-9 классы, 3 - среднее специальное или 11 классов, 4 - высшее)\n",
    "- Mjob — работа матери ('teacher' - учитель, 'health' - сфера здравоохранения, 'services' - гос служба, 'at_home' - не работает, 'other' - другое)\n",
    "- Fjob — работа отца ('teacher' - учитель, 'health' - сфера здравоохранения, 'services' - гос служба, 'at_home' - не работает, 'other' - другое)\n",
    "- reason — причина выбора школы ('home' - близость к дому, 'reputation' - репутация школы, 'course' - образовательная программа, 'other' - другое)\n",
    "- guardian — опекун ('mother' - мать, 'father' - отец, 'other' - другое)\n",
    "- traveltime — время в пути до школы (1 - <15 мин., 2 - 15-30 мин., 3 - 30-60 мин., 4 - >60 мин.)\n",
    "- studytime — время на учёбу помимо школы в неделю (1 - <2 часов, 2 - 2-5 часов, 3 - 5-10 часов, 4 - >10 часов)\n",
    "- failures — количество внеучебных неудач (n, если 1<=n<=3, иначе 0)\n",
    "- schoolsup — дополнительная образовательная поддержка (yes или no)\n",
    "- famsup — семейная образовательная поддержка (yes или no)\n",
    "- paid — дополнительные платные занятия по математике (yes или no)\n",
    "- activities — дополнительные внеучебные занятия (yes или no)\n",
    "- nursery — посещал детский сад (yes или no)\n",
    "- higher — хочет получить высшее образование (yes или no)\n",
    "- internet — наличие интернета дома (yes или no)\n",
    "- romantic — в романтических отношениях (yes или no)\n",
    "- famrel — семейные отношения (от 1 - очень плохо до 5 - очень хорошо)\n",
    "- freetime — свободное время после школы (от 1 - очень мало до 5 - очень мого)\n",
    "- goout — проведение времени с друзьями (от 1 - очень мало до 5 - очень много)\n",
    "- health — текущее состояние здоровья (от 1 - очень плохо до 5 - очень хорошо)\n",
    "- absences — количество пропущенных занятий\n",
    "- score — баллы по госэкзамену по математике"
   ]
  },
  {
   "cell_type": "markdown",
   "id": "large-sponsorship",
   "metadata": {},
   "source": [
    "### Выполним первичную обработку данных.\n",
    "---"
   ]
  },
  {
   "cell_type": "code",
   "execution_count": null,
   "id": "direct-success",
   "metadata": {},
   "outputs": [],
   "source": [
    "%matplotlib inline\n",
    "\n",
    "# импортируем все необходимые библиотеки\n",
    "import pandas as pd\n",
    "import numpy as np\n",
    "import matplotlib.pyplot as plt\n",
    "import seaborn as sns\n",
    "from itertools import combinations\n",
    "from scipy.stats import ttest_ind"
   ]
  },
  {
   "cell_type": "code",
   "execution_count": null,
   "id": "numerous-diagram",
   "metadata": {},
   "outputs": [],
   "source": [
    "# читаем данные и составляем первое впечатление\n",
    "df = pd.read_csv('stud_math.xls')\n",
    "df.info()"
   ]
  },
  {
   "cell_type": "markdown",
   "id": "yellow-blackberry",
   "metadata": {},
   "source": [
    "#### Ошибки в данных\n",
    ">_В столбцах **Fedu** и **famrel** присутствуют некорректные значения. Данные являются некорректными т.к. лежат за пределами возможных множеств значений переменных соответствующих столбцов._\n",
    "\n",
    ">_Мною принято решение удалить ошибки путем заменой значений на NaN_"
   ]
  },
  {
   "cell_type": "code",
   "execution_count": null,
   "id": "greater-saskatchewan",
   "metadata": {},
   "outputs": [],
   "source": [
    "# отец одного из учеников не может иметь образование в 10 раз выше высшего \n",
    "df.loc[df.Fedu == 40.0, 'Fedu'] = np.nan\n",
    "# семейные отношения одного из учеников не может быть хуже чем очень плохо \n",
    "df.loc[df.famrel == -1.0, 'famrel'] = np.nan"
   ]
  },
  {
   "cell_type": "markdown",
   "id": "parallel-beginning",
   "metadata": {},
   "source": [
    "#### Выбросы\n",
    ">_Переменные **absences** (количество пропущенных занятий учеником) содержат выбросы._"
   ]
  },
  {
   "cell_type": "code",
   "execution_count": null,
   "id": "creative-performance",
   "metadata": {},
   "outputs": [],
   "source": [
    "# посмотрим на распределение количества пропущенных занятий\n",
    "print(df.absences.describe())\n",
    "plt.hist(df.absences)\n",
    "plt.show()"
   ]
  },
  {
   "cell_type": "markdown",
   "id": "linear-college",
   "metadata": {},
   "source": [
    ">_Мною принято решение удалить выбросы из данных о пропущенных занятиях учеников, путем заменой значений на NaN._\n",
    "\n",
    ">_В данном случае выбросами считаю значение переменной которое превышает сумму среднего значения(mean) и трех среднеквадратичных отклонений(std)._"
   ]
  },
  {
   "cell_type": "code",
   "execution_count": null,
   "id": "arabic-serum",
   "metadata": {},
   "outputs": [],
   "source": [
    "# заменяем выбросы на np.nan\n",
    "df.absences = df.absences.apply(\n",
    "    lambda x: np.nan \n",
    "    if x > df.absences.mean() + 3*df.absences.std()\n",
    "    else x\n",
    ")\n",
    "plt.hist(df.absences) # вновь глянем на распределение количества пропущенных занятий\n",
    "plt.show()"
   ]
  },
  {
   "cell_type": "markdown",
   "id": "express-speaker",
   "metadata": {},
   "source": [
    "#### Пропуски данных\n",
    ">_т.к. датасет содержат пропуски, посмотрим на пропуски в датасете повнимательнее._"
   ]
  },
  {
   "cell_type": "code",
   "execution_count": null,
   "id": "usual-judges",
   "metadata": {},
   "outputs": [],
   "source": [
    "omission = df.isna().sum(axis=1) # узнаем количество пропусков в каждой строке датасета\n",
    "omission.describe()"
   ]
  },
  {
   "cell_type": "code",
   "execution_count": null,
   "id": "according-voluntary",
   "metadata": {},
   "outputs": [],
   "source": [
    "sns.boxplot(data=omission)\n",
    "plt.show()"
   ]
  },
  {
   "cell_type": "markdown",
   "id": "annual-vaccine",
   "metadata": {},
   "source": [
    ">_Мною принято решение исключить из датасета данные о учениках, где содержится слишком много пропусков._"
   ]
  },
  {
   "cell_type": "code",
   "execution_count": null,
   "id": "least-sleeping",
   "metadata": {},
   "outputs": [],
   "source": [
    "# удаляю строки eсли количество пропусков больше, чем значение верхнего квартиля  плюс 1.5 межквартильного размаха\n",
    "perc25 = omission.quantile(0.25)\n",
    "perc75 = omission.quantile(0.75)\n",
    "IQR = perc75 - perc25\n",
    "\n",
    "df = df.loc[omission.between(perc25 - 1.5*IQR, perc75 + 1.5*IQR)] # отфильтровывам данные"
   ]
  },
  {
   "cell_type": "markdown",
   "id": "faced-classic",
   "metadata": {},
   "source": [
    "#### Загадочные данные\n",
    ">_Отсутствует описание переменной '**studytime, granular**'. В данном столбце присутствуют не все значения (пропуски)._"
   ]
  },
  {
   "cell_type": "code",
   "execution_count": null,
   "id": "ignored-research",
   "metadata": {},
   "outputs": [],
   "source": [
    "# посмотрим какие данные внутри\n",
    "print(df['studytime, granular'].value_counts(dropna=False))"
   ]
  },
  {
   "cell_type": "markdown",
   "id": "authentic-mercury",
   "metadata": {},
   "source": [
    ">_Данные состоят только из отрицательных значений кратных 3_"
   ]
  },
  {
   "cell_type": "code",
   "execution_count": null,
   "id": "simple-small",
   "metadata": {},
   "outputs": [],
   "source": [
    "# взглянем на статистические данные\n",
    "print(df['studytime, granular'].describe())\n",
    "plt.hist(df['studytime, granular'])\n",
    "plt.show()"
   ]
  },
  {
   "cell_type": "markdown",
   "id": "prepared-chart",
   "metadata": {},
   "source": [
    ">_Вернусь к этой переменной, когда будет больше информации._"
   ]
  },
  {
   "cell_type": "markdown",
   "id": "alert-brick",
   "metadata": {},
   "source": [
    "#### Замена переменных\n",
    ">_Датасет содержит значения переменных типа 'Yes/No'. Для удобства дальнейшего анализа данных заменим 'Yes' на 1, 'No' на 0_"
   ]
  },
  {
   "cell_type": "code",
   "execution_count": null,
   "id": "median-louis",
   "metadata": {},
   "outputs": [],
   "source": [
    "def change_of_variables(col_name):\n",
    "    df[col_name] = df[col_name].apply(\n",
    "    lambda x: 1.0 \n",
    "    if x == 'yes'\n",
    "    else (0.0 if x == 'no' else x)\n",
    ")"
   ]
  },
  {
   "cell_type": "code",
   "execution_count": null,
   "id": "identical-press",
   "metadata": {},
   "outputs": [],
   "source": [
    "# применим функцию change_of_variables для каждой переменной типа yes/no\n",
    "col_list = ['schoolsup', 'famsup', 'paid', 'activities',  'nursery', 'higher', 'internet', 'romantic', ]\n",
    "for col in col_list:\n",
    "    change_of_variables(col)"
   ]
  },
  {
   "cell_type": "markdown",
   "id": "treated-approach",
   "metadata": {},
   "source": [
    "### Проведем корреляционный анализ количественных переменных\n",
    "---"
   ]
  },
  {
   "cell_type": "code",
   "execution_count": null,
   "id": "auburn-statement",
   "metadata": {},
   "outputs": [],
   "source": [
    "# вычисляем матрицу корреляций\n",
    "correlation = df.corr()\n",
    "# линейная корреляционная связь для всех количественных переменных\n",
    "f, ax = plt.subplots(figsize =(9, 8))\n",
    "sns.heatmap(correlation, ax = ax, cmap =\"RdYlGn\", linewidths = 0.1)\n",
    "plt.show()"
   ]
  },
  {
   "cell_type": "markdown",
   "id": "important-single",
   "metadata": {},
   "source": [
    "#### Предварительные выводы\n",
    "- _Для **score** столбца слабо коррелирующие переменные: **age**, **Medu**, **Fedu**, **studytime**, **goout**, **schoolsup**, **higher**, **romantic**_\n",
    "\n",
    "- _Переменные **Medu** и **Fedu** имеют высокий коэффициент корреляции (r=0.645)_\n",
    "\n",
    "- _Для **score** столбца не коррелирующие переменные: **traveltime**, **famrel**, **freetime**, **health**, **absences**, **famsup**, **paid**, **activities**, **nursery**, **internet**_\n",
    "\n",
    "- _Столбец '**studytime, granular**' полностью дублирует (r=-1) информацию столбца '**studytime**'._\n",
    "\n",
    "- _Столбец **failures** (количество внеучебных неудач) имеет среднюю линейную обратную корелляционную связь (r=-0.332) с баллами учеников по госэкзамену по математике_"
   ]
  },
  {
   "cell_type": "code",
   "execution_count": null,
   "id": "peaceful-lawyer",
   "metadata": {},
   "outputs": [],
   "source": [
    "sns.regplot(x=df.score, y=df.failures)\n",
    "plt.xlabel('Баллы по госэкзамену по математике')\n",
    "plt.ylabel('Количество внеучебных неудач')\n",
    "plt.show()"
   ]
  },
  {
   "cell_type": "markdown",
   "id": "lightweight-donna",
   "metadata": {},
   "source": [
    "### Проанализируем номинативные переменные\n",
    "---\n",
    ">_Номинативные переменные, которые осталось рассмотреть: **school**, **sex**, **address**, **famsize**, **Pstatus**, **Mjob**, **Fjob**, **reason**, **guardian**_\n",
    "\n",
    "<span style=\"color:red\">pss... Для построения графиков раскомментируй цикл for</span>"
   ]
  },
  {
   "cell_type": "code",
   "execution_count": null,
   "id": "stone-brush",
   "metadata": {},
   "outputs": [],
   "source": [
    "def show_graph(col_name):\n",
    "    sns.boxplot(x=df[col_name], y=df.score, data=df)\n",
    "    plt.show()\n",
    "\n",
    "\n",
    "# for col in ['school', 'sex', 'address', 'famsize', 'Pstatus', 'Mjob', 'Fjob', 'reason', 'guardian']:\n",
    "#    show_graph(col)"
   ]
  },
  {
   "cell_type": "markdown",
   "id": "theoretical-scholarship",
   "metadata": {},
   "source": [
    ">_Проверим, есть ли статистическая разница в распределении оценок по номинативным признакам, с помощью теста Стьюдента._\n",
    "\n",
    ">*H_0: Pаспределения оценок по различным параметрам неразличимы*"
   ]
  },
  {
   "cell_type": "code",
   "execution_count": null,
   "id": "smoking-analyst",
   "metadata": {},
   "outputs": [],
   "source": [
    "def get_stat_dif(column):\n",
    "    cols = df.loc[:, column].value_counts().index[:10]\n",
    "    combinations_all = list(combinations(cols, 2))\n",
    "    for comb in combinations_all:\n",
    "        if ttest_ind(df.loc[df.loc[:, column] == comb[0], 'score'], \n",
    "                        df.loc[df.loc[:, column] == comb[1], 'score']).pvalue \\\n",
    "            <= 0.05/len(combinations_all): # Учли поправку Бонферони\n",
    "            print('Найдены статистически значимые различия для колонки', column)\n",
    "            break\n",
    "            \n",
    "for col in ['school', 'sex', 'address', 'famsize', 'Pstatus', 'Mjob', 'Fjob', 'reason', 'guardian']:\n",
    "    get_stat_dif(col)"
   ]
  },
  {
   "cell_type": "code",
   "execution_count": null,
   "id": "educational-gibraltar",
   "metadata": {},
   "outputs": [],
   "source": [
    "show_graph('Mjob')"
   ]
  },
  {
   "cell_type": "code",
   "execution_count": null,
   "id": "massive-cameroon",
   "metadata": {},
   "outputs": [],
   "source": [
    "df_for_model = df.loc[:, ['age', 'Medu', 'Mjob', 'studytime', 'failures', 'schoolsup', 'higher', 'romantic', 'goout']]\n",
    "df_for_model.head()"
   ]
  },
  {
   "cell_type": "markdown",
   "id": "reasonable-coach",
   "metadata": {},
   "source": [
    "#### Предварительные выводы\n",
    "- _Серьезно отличается всего один параметр: **Mjob**. Оставим эту переменную в датасете для дальнейшего построения модели_"
   ]
  },
  {
   "cell_type": "markdown",
   "id": "artistic-grain",
   "metadata": {},
   "source": [
    "## Выводы\n",
    "---\n",
    "- В данных присутствуют пустые значения\n",
    "- В столбцах **Fedu** и **famrel** присутствуют некорректные значения. Выполнена замена на NaN\n",
    "- Выбросы найдены (и заменены на NaN) лишь в данных переменной **absences** (количество пропущенных занятий учеником)\n",
    "- Данные учеников, которые содержат слишком много пропусков, исключены из датасета\n",
    "- Столбец **studytime, granular** полностью дублирует (r=-1) информацию столбца **studytime** (время на учёбу помимо школы в неделю). Столбец **studytime, granular** можно изключить из дальнейшего рассмотрения\n",
    "- Переменные **Medu** (образование матери) и **Fedu** (образование отца) имеют высокий коэффициент корреляции (r=0.645), что может говорить о не случайном выборе супругов. Принадлежность к одной социальной группе\n",
    "- Столбец **failures** (количество внеучебных неудач) имеет среднюю линейную обратную корелляционную связь (r=-0.332) с баллами учеников по госэкзамену по математике (**score**). Это может говорить о взаимосвязи опыта неудач с получаемыми результатами. \n",
    "- Самые важные параметры, которые предлагается использовать в дальнейшем для построения модели:\n",
    "    + **age** - возраст ученика\n",
    "    + **Medu** - образование матери\n",
    "    + **Mjob** - работа матери\n",
    "    + **studytime** - время на учёбу помимо школы в неделю\n",
    "    + **failures** - количество внеучебных неудач\n",
    "    + **schoolsup** - дополнительная образовательная поддержка\n",
    "    + **higher** - хочет получить высшее образование\n",
    "    + **romantic** - в романтических отношениях\n",
    "    + **goout** - проведение времени с друзьями"
   ]
  },
  {
   "cell_type": "code",
   "execution_count": null,
   "id": "miniature-highland",
   "metadata": {},
   "outputs": [],
   "source": []
  }
 ],
 "metadata": {
  "kernelspec": {
   "display_name": "Python 3",
   "language": "python",
   "name": "python3"
  },
  "language_info": {
   "codemirror_mode": {
    "name": "ipython",
    "version": 3
   },
   "file_extension": ".py",
   "mimetype": "text/x-python",
   "name": "python",
   "nbconvert_exporter": "python",
   "pygments_lexer": "ipython3",
   "version": "3.8.5"
  }
 },
 "nbformat": 4,
 "nbformat_minor": 5
}
