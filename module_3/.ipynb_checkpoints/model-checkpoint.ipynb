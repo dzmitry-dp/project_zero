{
 "cells": [
  {
   "cell_type": "markdown",
   "metadata": {},
   "source": [
    "# Загрузка Pandas и очистка данных"
   ]
  },
  {
   "cell_type": "code",
   "execution_count": 32,
   "metadata": {},
   "outputs": [],
   "source": [
    "import re\n",
    "import pandas as pd\n",
    "import numpy as np\n",
    "from datetime import datetime\n",
    "\n",
    "import matplotlib.pyplot as plt\n",
    "import seaborn as sns \n",
    "%matplotlib inline"
   ]
  },
  {
   "cell_type": "code",
   "execution_count": 33,
   "metadata": {},
   "outputs": [
    {
     "name": "stdout",
     "output_type": "stream",
     "text": [
      "<class 'pandas.core.frame.DataFrame'>\n",
      "RangeIndex: 40000 entries, 0 to 39999\n",
      "Data columns (total 10 columns):\n",
      " #   Column             Non-Null Count  Dtype  \n",
      "---  ------             --------------  -----  \n",
      " 0   Restaurant_id      40000 non-null  object \n",
      " 1   City               40000 non-null  object \n",
      " 2   Cuisine Style      30717 non-null  object \n",
      " 3   Ranking            40000 non-null  float64\n",
      " 4   Rating             40000 non-null  float64\n",
      " 5   Price Range        26114 non-null  object \n",
      " 6   Number of Reviews  37457 non-null  float64\n",
      " 7   Reviews            40000 non-null  object \n",
      " 8   URL_TA             40000 non-null  object \n",
      " 9   ID_TA              40000 non-null  object \n",
      "dtypes: float64(3), object(7)\n",
      "memory usage: 3.1+ MB\n"
     ]
    }
   ],
   "source": [
    "df = pd.read_csv('main_task.xls')\n",
    "df.info()"
   ]
  },
  {
   "cell_type": "markdown",
   "metadata": {},
   "source": [
    "Первоначальная версия датасета состоит из десяти столбцов, содержащих следующую информацию:\n",
    "\n",
    "- **Restaurant_id** — _идентификационный номер ресторана/сети ресторанов;_\n",
    "- **City** — _город, в котором находится ресторан;_\n",
    "- **Cuisine Style** — _кухня или кухни, к которым можно отнести блюда, предлагаемые в ресторане;_\n",
    "- **Ranking** — _место, которое занимает данный ресторан среди всех ресторанов своего города;_\n",
    "- **Rating** — _рейтинг ресторана по данным TripAdvisor <span style=\"color:green\">(именно это значение должна будет предсказывать модель)</span>;_\n",
    "- **Price Range** — _диапазон цен в ресторане;_\n",
    "- **Number of Reviews** — _количество отзывов о ресторане;_\n",
    "- **Reviews** — _данные о двух отзывах, которые отображаются на сайте ресторана;_\n",
    "- **URL_TA** — _URL страницы ресторана на TripAdvisor;_\n",
    "- **ID_TA** — _идентификатор ресторана в базе данных TripAdvisor._\n"
   ]
  },
  {
   "cell_type": "markdown",
   "metadata": {},
   "source": [
    "\n",
    "- ### Данные целевой переменной Rating\n",
    "---\n",
    "> 1. Целевая переменная не содержит пропусков и выбросов  (dtype=int64).\n",
    "> 2. Минимальное значение: 1. Максимальное значение: 5. Среднее: 3.99. Стандартное отклонение: 0.67.\n",
    "> 2. Целевая переменная имеет нормальное распределение со смещенным средним значением вправо."
   ]
  },
  {
   "cell_type": "code",
   "execution_count": null,
   "metadata": {},
   "outputs": [],
   "source": [
    "df['Rating'].value_counts(dropna=False)"
   ]
  },
  {
   "cell_type": "code",
   "execution_count": null,
   "metadata": {},
   "outputs": [],
   "source": [
    "df.Rating.hist(bins=40) \n",
    "plt.show()"
   ]
  },
  {
   "cell_type": "markdown",
   "metadata": {},
   "source": [
    "- ### Идентификационный номер ресторана/сети ресторанов\n",
    "---\n",
    "> 1. Рестораны крупных сетей имеют общий рейтинг выше среднего\n",
    "> 2. Отдельным признаком выделяем средний рейтинг сети ресторанов (Average_Rating_Restaurant_Chain)"
   ]
  },
  {
   "cell_type": "code",
   "execution_count": null,
   "metadata": {},
   "outputs": [],
   "source": [
    "# для примера первых 100 крупнейших сетей\n",
    "d = {'Id': df.Restaurant_id.value_counts().index[:100], 'Restaurant_Counts': df.Restaurant_id.value_counts().values[:100]}\n",
    "id_counts = pd.DataFrame(data=d)\n",
    "id_counts['Mean_Rating'] = id_counts['Id'].apply(lambda x : df.Rating[df.Restaurant_id == x].mean())"
   ]
  },
  {
   "cell_type": "code",
   "execution_count": null,
   "metadata": {},
   "outputs": [],
   "source": [
    "pt = id_counts.plot(x='Restaurant_Counts', y='Mean_Rating', kind='scatter') # график зависимости количества ресторанов одной сети и среднего рейтинга\n",
    "pt.hlines(y=df.Rating.mean(), xmin=id_counts['Restaurant_Counts'].min(), xmax=id_counts['Restaurant_Counts'].max(), color='red', label='mean') # среднее значение рейтинга\n",
    "plt.show()"
   ]
  },
  {
   "cell_type": "markdown",
   "metadata": {},
   "source": [
    "- ### Города, в которых находятся рестораны\n",
    "---\n",
    "> 1. В городах London, Paris, Madrid, Barcelona, Berlin и Milan находятся больше половины ресторанов представленных в датасете\n",
    "> 2. Кодируем категориальные признаки, используя подход One-Hot Encoding "
   ]
  },
  {
   "cell_type": "code",
   "execution_count": null,
   "metadata": {},
   "outputs": [],
   "source": [
    "# посмотрим на города представленные в датасете\n",
    "plt.rcParams['figure.figsize'] = (10,7)\n",
    "df['City'].value_counts(ascending=True).plot(kind='barh')\n",
    "plt.show()"
   ]
  },
  {
   "cell_type": "markdown",
   "metadata": {},
   "source": [
    "- ### Кухня или кухни, к которым можно отнести блюда, предлагаемые в ресторане\n",
    "---\n",
    "> 1. В датафрейме присутствуют 125 различных стилей кухонь\n",
    "> 2. Чаще всего встречается Vegetarian Friendly\n",
    "> 3. В среднем в одном ресторане представлено 2.6 стилей кухонь\n",
    "> 4. Создаю признак \"Количество кухонь в одном ресторане\" (Amount_Cuisine_Style) \n",
    "> 5. Создаю признак \"Среднее количество кухонь каждой сети ресторанов\" (Average_Number_of_Kitchens_Restaurant_Chain)"
   ]
  },
  {
   "cell_type": "code",
   "execution_count": null,
   "metadata": {},
   "outputs": [],
   "source": [
    "def format_str_values_to_list(text):\n",
    "    def replaces(text):\n",
    "        rep = {\"[\": \"\", \"]\": \"\", \"'\": \"\"}\n",
    "        rep = dict((re.escape(k), v) for k, v in rep.items())\n",
    "        pattern = re.compile(\"|\".join(rep.keys()))\n",
    "        return pattern.sub(lambda m: rep[re.escape(m.group(0))], str(text))\n",
    "\n",
    "    if not pd.isna(text):\n",
    "        if text == '[[], []]': # для колонки Reviews\n",
    "            return None\n",
    "        new_str = replaces(text)\n",
    "        return new_str.split(', ')\n",
    "    \n",
    "df['Cuisine Style'] = df['Cuisine Style'].apply(format_str_values_to_list)"
   ]
  },
  {
   "cell_type": "code",
   "execution_count": null,
   "metadata": {},
   "outputs": [],
   "source": [
    "def get_unique_values_cuisine_style(series):\n",
    "        cuisine = set()\n",
    "        for list_ in series:\n",
    "            if list_ != None:\n",
    "                for elem in list_:\n",
    "                    cuisine.add(elem)\n",
    "        return list(cuisine)\n",
    "    \n",
    "print('Всего представлено стилей кухонь:', len(get_unique_values_cuisine_style(df['Cuisine Style'])))"
   ]
  },
  {
   "cell_type": "code",
   "execution_count": null,
   "metadata": {},
   "outputs": [],
   "source": [
    "def get_most_popular_cuisine(series):\n",
    "        cuisine_dict = {}\n",
    "        for list_ in series:\n",
    "            if list_ != None:\n",
    "                for elem in list_:\n",
    "                    if elem in cuisine_dict:\n",
    "                        cuisine_dict[elem] += 1\n",
    "                    else:\n",
    "                        cuisine_dict[elem] = 1\n",
    "        return max(cuisine_dict, key=cuisine_dict.get)\n",
    "    \n",
    "print('Самая популярная кухня:', get_most_popular_cuisine(df['Cuisine Style']))"
   ]
  },
  {
   "cell_type": "markdown",
   "metadata": {},
   "source": [
    "- ### Место, которое занимает данный ресторан среди всех ресторанов своего города\n",
    "---\n",
    "> 1. Есть рестораны с максимальным рейтингом занимающие одни из последних мест среди ресторанов своих городов. Поработаем над очисткой данных от выбросов"
   ]
  },
  {
   "cell_type": "code",
   "execution_count": null,
   "metadata": {},
   "outputs": [],
   "source": [
    "# места ресторанов с самым высоким рейтингом\n",
    "df['Ranking'][df['Rating'] == 5].plot.box()\n",
    "plt.show()"
   ]
  },
  {
   "cell_type": "markdown",
   "metadata": {},
   "source": [
    "- ### Диапазон цен в ресторане\n",
    "---\n",
    "> 1. Диапазон цен представленный в датасете можно заменить последовательными числами\n",
    "> 2. У ресторанов с высоким рейтингом чаще встречается средний ценовой диапазон\n",
    "> 3. Почти половина данных отсутствует\n",
    "> 4. Добавим новый признак - максимальная ценовая категория в сети ресторанов (Max_Price_Range_Restaurant_Chain)\n",
    "> 5.Добавим новый признак - минимальная ценовая категория в сети ресторанов (Min_Price_Range_Restaurant_Chain)\n",
    "> 6. Новым признаком будет среднее значение ценовой категории по городам (Average_Price_Range_by_City)"
   ]
  },
  {
   "cell_type": "code",
   "execution_count": null,
   "metadata": {},
   "outputs": [],
   "source": [
    "df['Price Range'].value_counts(dropna=False)"
   ]
  },
  {
   "cell_type": "code",
   "execution_count": null,
   "metadata": {},
   "outputs": [],
   "source": [
    "# посмотрим на ценовой диапазон рестранов с высоким рейтингом\n",
    "df['Price Range'][df['Rating'] == 5].value_counts(dropna=False)"
   ]
  },
  {
   "cell_type": "code",
   "execution_count": null,
   "metadata": {},
   "outputs": [],
   "source": [
    "# посмотрим на ценовой диапазон рестранов с низким рейтингом\n",
    "df['Price Range'][df['Rating'] == 1].value_counts(dropna=False)"
   ]
  },
  {
   "cell_type": "markdown",
   "metadata": {},
   "source": [
    "- ### Количество отзывов о ресторане\n",
    "---\n",
    "> 1. В пределах 100 отзывов больше половины ресторанов. Около 1% данных находится за пределами 1200 отзывов\n",
    "> 2. Медианное значение количества отзывов в городе (Median_Number_of_Reviews_by_City)"
   ]
  },
  {
   "cell_type": "code",
   "execution_count": null,
   "metadata": {},
   "outputs": [],
   "source": [
    "# распределение количества отзывов\n",
    "df['Number of Reviews'].hist(bins=100)\n",
    "plt.show()"
   ]
  },
  {
   "cell_type": "markdown",
   "metadata": {},
   "source": [
    "- ### Данные о отзывах, которые отображаются на сайте ресторана\n",
    "---\n",
    "> 1. Cчитаю выбросами данные о количестве дней между публикациями отзывов превышающие среднее значение пременной более чем на 3 стандартных отклонения\n",
    "> 2. Отдельным признаком выделяем суммарное количество больших букв в 2х отзывах (Caps_Reviews)\n",
    "> 3. Отдельным признаком выделяем количество дней между публикациями отзывов (Span_Reviews)"
   ]
  },
  {
   "cell_type": "code",
   "execution_count": null,
   "metadata": {},
   "outputs": [],
   "source": [
    "df['Reviews'] = df['Reviews'].apply(format_str_values_to_list)\n",
    "\n",
    "def get_date_from_reviews(reviews_list, arg):\n",
    "    reviews_date_list = []\n",
    "    if reviews_list != None:\n",
    "        for value in reviews_list[-2:]:\n",
    "            try:\n",
    "                reviews_date_list.append(datetime.strptime(value, '%m/%d/%Y'))\n",
    "            except:\n",
    "                continue\n",
    "        if arg == 1:\n",
    "            return reviews_date_list[0]\n",
    "        elif arg == 2:\n",
    "            try:\n",
    "                return reviews_date_list[1]\n",
    "            except IndexError:\n",
    "                return None\n",
    "\n",
    "df['First_Reviews_Date'] = df['Reviews'].apply(get_date_from_reviews, args=(1,))\n",
    "df['Second_Reviews_Date'] = df['Reviews'].apply(get_date_from_reviews, args=(2,))\n",
    "\n",
    "def get_days_between_reviews(span_date):\n",
    "    if not pd.isna(span_date):\n",
    "        days = span_date.days\n",
    "        if days < 0:\n",
    "            return int(-days)\n",
    "        else:\n",
    "            return int(days)\n",
    "\n",
    "# время в сутках между публикациями отзывов\n",
    "df['Span_Reviews'] = df['First_Reviews_Date'] - df['Second_Reviews_Date']\n",
    "df['Span_Reviews'] = df['Span_Reviews'].apply(get_days_between_reviews)"
   ]
  },
  {
   "cell_type": "code",
   "execution_count": null,
   "metadata": {},
   "outputs": [],
   "source": [
    "# максимальное количество дней 3207 между отзывами\n",
    "# на общем фоне \n",
    "df['Span_Reviews'].plot.box()\n",
    "plt.show()"
   ]
  },
  {
   "cell_type": "markdown",
   "metadata": {},
   "source": [
    "- ### URL страницы ресторана на TripAdvisor\n",
    "---\n",
    "> 1. Ссылка состоит из 2х частей: Название ресторана - Место нахождения\n",
    "> 2. Отдельным признаком выносим количество символов в названии ресторана (Number_of_Characters_in_the_Name)"
   ]
  },
  {
   "cell_type": "code",
   "execution_count": null,
   "metadata": {},
   "outputs": [],
   "source": [
    "# из любой ссылки можно выделить Название - Место\n",
    "df['URL_TA'].sample().iloc[0].replace('.html', '').split('-')[-2:]"
   ]
  },
  {
   "cell_type": "markdown",
   "metadata": {},
   "source": [
    "- ### Идентификатор ресторана в базе данных TripAdvisor\n",
    "---\n",
    "> 1. Есть повторяющиеся идентификаторы ресторанов в базе данных. Отличие лишь в колонке Ranking. (повторное добавление ресторана в базу данных)"
   ]
  },
  {
   "cell_type": "code",
   "execution_count": null,
   "metadata": {},
   "outputs": [],
   "source": [
    "s = df['ID_TA'].value_counts(dropna=False)\n",
    "df[df['ID_TA'] == s[s==2].sample(1).index.values[0]]"
   ]
  },
  {
   "cell_type": "markdown",
   "metadata": {},
   "source": [
    "<div style=\"text-align: center\">\n",
    "    <img src=\"https://znanieinfo.ru/wp-content/cache/thumb/44/279634fc1717644_810x260.jpg\" />\n",
    "</div>"
   ]
  },
  {
   "cell_type": "code",
   "execution_count": null,
   "metadata": {},
   "outputs": [],
   "source": [
    "# Исходя из вышеизложенных наблюдений очищаем и подготавливаем данные\n",
    "from handling import ConfigWrapper\n",
    "df_obj = ConfigWrapper(pd.read_csv('main_task.xls'))"
   ]
  },
  {
   "cell_type": "markdown",
   "metadata": {},
   "source": [
    "- ### Корреляция признаков\n",
    "---"
   ]
  },
  {
   "cell_type": "code",
   "execution_count": null,
   "metadata": {},
   "outputs": [],
   "source": [
    "plt.rcParams['figure.figsize'] = (15,10)\n",
    "corr = df_obj.final_data.corr()\n",
    "sns.heatmap(corr)\n",
    "plt.show()"
   ]
  },
  {
   "cell_type": "code",
   "execution_count": null,
   "metadata": {},
   "outputs": [],
   "source": [
    "# не пропускаем признаки с высокой корреляцией\n",
    "for column in corr.columns:\n",
    "    for row in corr[column].index:\n",
    "        if corr[column][row] > 0.85 or corr[column][row] < -0.85:\n",
    "            if row != column:\n",
    "                print('row:', row)\n",
    "                print('column:', column)"
   ]
  },
  {
   "cell_type": "code",
   "execution_count": null,
   "metadata": {},
   "outputs": [],
   "source": [
    "# наблюдаем высокую корреляцию признаков City_Rome (место нахождения ресторана - Рим) и Median_Number_of_Reviews_by_City (медианное значение количества отзывов по горорам) \n",
    "# сложно предположить взаимосвязь этих признаков, но для чистоты эксперимента было принято решение удалить менее важный признак для модели (City_Rome)\n",
    "df_obj.final_data.drop(columns='City_Rome', inplace=True)"
   ]
  },
  {
   "cell_type": "markdown",
   "metadata": {},
   "source": [
    "---"
   ]
  },
  {
   "cell_type": "markdown",
   "metadata": {},
   "source": [
    "# Разбиваем датафрейм на части, необходимые для обучения и тестирования модели"
   ]
  },
  {
   "cell_type": "code",
   "execution_count": null,
   "metadata": {},
   "outputs": [],
   "source": [
    "# Х - данные с информацией о ресторанах, у - целевая переменная (рейтинги ресторанов)\n",
    "X = df_obj.final_data.drop(columns='Rating')\n",
    "y = df_obj.final_data['Rating']"
   ]
  },
  {
   "cell_type": "code",
   "execution_count": null,
   "metadata": {},
   "outputs": [],
   "source": [
    "# Загружаем специальный инструмент для разбивки:\n",
    "from sklearn.model_selection import train_test_split"
   ]
  },
  {
   "cell_type": "code",
   "execution_count": null,
   "metadata": {},
   "outputs": [],
   "source": [
    "# Наборы данных с меткой \"train\" будут использоваться для обучения модели, \"test\" - для тестирования.\n",
    "# Для тестирования мы будем использовать 25% от исходного датасета.\n",
    "X_train, X_test, y_train, y_test = train_test_split(X, y, test_size=0.25)"
   ]
  },
  {
   "cell_type": "markdown",
   "metadata": {},
   "source": [
    "# Создаём, обучаем и тестируем модель"
   ]
  },
  {
   "cell_type": "code",
   "execution_count": null,
   "metadata": {},
   "outputs": [],
   "source": [
    "# Импортируем необходимые библиотеки:\n",
    "from sklearn.ensemble import RandomForestRegressor # инструмент для создания и обучения модели\n",
    "from sklearn import metrics # инструменты для оценки точности модели"
   ]
  },
  {
   "cell_type": "code",
   "execution_count": null,
   "metadata": {},
   "outputs": [],
   "source": [
    "# Создаём модель\n",
    "regr = RandomForestRegressor(n_estimators=100)\n",
    "\n",
    "# Обучаем модель на тестовом наборе данных\n",
    "regr.fit(X_train, y_train)\n",
    "\n",
    "# Используем обученную модель для предсказания рейтинга ресторанов в тестовой выборке.\n",
    "# Предсказанные значения записываем в переменную y_pred\n",
    "y_pred = regr.predict(X_test)"
   ]
  },
  {
   "cell_type": "code",
   "execution_count": null,
   "metadata": {},
   "outputs": [],
   "source": [
    "# Сравниваем предсказанные значения (y_pred) с реальными (y_test), и смотрим насколько они в среднем отличаются\n",
    "# Метрика называется Mean Absolute Error (MAE) и показывает среднее отклонение предсказанных значений от фактических.\n",
    "print('MAE:', metrics.mean_absolute_error(y_test, y_pred))"
   ]
  },
  {
   "cell_type": "code",
   "execution_count": null,
   "metadata": {},
   "outputs": [],
   "source": [
    "# выведем самые важные признаки для модели\n",
    "plt.rcParams['figure.figsize'] = (10,10)\n",
    "feat_importances = pd.Series(regr.feature_importances_, index=X.columns)\n",
    "feat_importances.nlargest(25).plot(kind='barh')\n",
    "plt.show()"
   ]
  },
  {
   "cell_type": "code",
   "execution_count": null,
   "metadata": {},
   "outputs": [],
   "source": []
  }
 ],
 "metadata": {
  "kernelspec": {
   "display_name": "Python 3",
   "language": "python",
   "name": "python3"
  },
  "language_info": {
   "codemirror_mode": {
    "name": "ipython",
    "version": 3
   },
   "file_extension": ".py",
   "mimetype": "text/x-python",
   "name": "python",
   "nbconvert_exporter": "python",
   "pygments_lexer": "ipython3",
   "version": "3.9.0+"
  }
 },
 "nbformat": 4,
 "nbformat_minor": 4
}
